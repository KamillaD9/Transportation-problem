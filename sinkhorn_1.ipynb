{
 "cells": [
  {
   "cell_type": "code",
   "execution_count": 2,
   "metadata": {},
   "outputs": [
    {
     "ename": "ImportError",
     "evalue": "No module named ot",
     "output_type": "error",
     "traceback": [
      "\u001b[1;31m---------------------------------------------------------------------------\u001b[0m",
      "\u001b[1;31mImportError\u001b[0m                               Traceback (most recent call last)",
      "\u001b[1;32m<ipython-input-2-2a59665fc8e9>\u001b[0m in \u001b[0;36m<module>\u001b[1;34m()\u001b[0m\n\u001b[0;32m      3\u001b[0m \u001b[1;32mimport\u001b[0m \u001b[0mscipy\u001b[0m\u001b[1;33m.\u001b[0m\u001b[0mlinalg\u001b[0m \u001b[1;32mas\u001b[0m \u001b[0msc\u001b[0m\u001b[1;33m\u001b[0m\u001b[0m\n\u001b[0;32m      4\u001b[0m \u001b[1;32mimport\u001b[0m \u001b[0mtime\u001b[0m\u001b[1;33m\u001b[0m\u001b[0m\n\u001b[1;32m----> 5\u001b[1;33m \u001b[1;32mimport\u001b[0m \u001b[0mot\u001b[0m\u001b[1;33m\u001b[0m\u001b[0m\n\u001b[0m\u001b[0;32m      6\u001b[0m \u001b[1;32mimport\u001b[0m \u001b[0mpylab\u001b[0m \u001b[1;32mas\u001b[0m \u001b[0mplt\u001b[0m\u001b[1;33m\u001b[0m\u001b[0m\n\u001b[0;32m      7\u001b[0m \u001b[1;32mimport\u001b[0m \u001b[0mmatplotlib\u001b[0m\u001b[1;33m\u001b[0m\u001b[0m\n",
      "\u001b[1;31mImportError\u001b[0m: No module named ot"
     ]
    }
   ],
   "source": [
    "import numpy as np\n",
    "from numpy import linalg as LA\n",
    "import scipy.linalg as sc\n",
    "import time\n",
    "import ot\n",
    "import pylab as plt\n",
    "import matplotlib"
   ]
  },
  {
   "cell_type": "markdown",
   "metadata": {},
   "source": [
    "## Решение транспортной задачи линейного программирования методом Синхорна"
   ]
  },
  {
   "cell_type": "code",
   "execution_count": null,
   "metadata": {
    "collapsed": true
   },
   "outputs": [],
   "source": [
    "def B(u, v, K, n):\n",
    "    return (np.eye(n) * np.exp(u)) @ K @ (np.eye(n) * np.exp(v))"
   ]
  },
  {
   "cell_type": "code",
   "execution_count": 3,
   "metadata": {},
   "outputs": [
    {
     "ename": "SyntaxError",
     "evalue": "invalid syntax (<ipython-input-3-c5b85bb86c0a>, line 6)",
     "output_type": "error",
     "traceback": [
      "\u001b[1;36m  File \u001b[1;32m\"<ipython-input-3-c5b85bb86c0a>\"\u001b[1;36m, line \u001b[1;32m6\u001b[0m\n\u001b[1;33m    while LA.norm(B(u,v, K, n) @ np.ones(n) - r, 1) + LA.norm(B(u,v, K,n).T @ np.ones(n) - c, 1) > eps:\u001b[0m\n\u001b[1;37m                               ^\u001b[0m\n\u001b[1;31mSyntaxError\u001b[0m\u001b[1;31m:\u001b[0m invalid syntax\n"
     ]
    }
   ],
   "source": [
    "def count_B(eps, r, c, K, n):\n",
    "    k = 0\n",
    "    u = np.zeros(n)\n",
    "    v = np.zeros(n)\n",
    "\n",
    "    while LA.norm(B(u,v, K, n) @ np.ones(n) - r, 1) + LA.norm(B(u,v, K,n).T @ np.ones(n) - c, 1) > eps:\n",
    "        if k % 2 == 0:\n",
    "            u += np.log(r) - np.log(B(u, v, K, n) @ np.ones(n))\n",
    "        else:\n",
    "            v += np.log(c) - np.log(B(u, v, K, n).T @ np.ones(n))\n",
    "            \n",
    "        k += 1\n",
    "\n",
    "        \n",
    "    return B(u, v, K, n)"
   ]
  },
  {
   "cell_type": "code",
   "execution_count": 4,
   "metadata": {
    "collapsed": true
   },
   "outputs": [],
   "source": [
    "def proj(r, c, B, n):\n",
    "    x_i = np.array([ min(r[i]/(B @ np.ones(n))[i], 1)  for i in range(n) ] )\n",
    "    y_i = np.array([ min(c[i]/(B.T @ np.ones(n))[i], 1)  for i in range(n) ] )\n",
    "    X = np.diag(x_i)\n",
    "    B_1 = X @ B\n",
    "    Y = np.diag(y_i)\n",
    "    B_2 = B_1 @ Y\n",
    "    err_r = r - B_2 @ np.ones(n)\n",
    "    err_c = c - B_2.T @ np.ones(n)\n",
    "    B_3 = B_2 + (err_r @ err_c.T) / LA.norm(err_r, 1)\n",
    "    print(\"err={}\".format((err_r @ err_c.T) / LA.norm(err_r, 1)))\n",
    "    return B_3"
   ]
  },
  {
   "cell_type": "code",
   "execution_count": 5,
   "metadata": {
    "collapsed": true
   },
   "outputs": [],
   "source": [
    "def sinkhorn_solve(eps, r, c, C, n):\n",
    "    gamma = eps / (4 * np.log(n))\n",
    "    C = C * (-1) / gamma\n",
    "    K = np.exp(C)\n",
    "    eps_1 = eps / (8 * LA.norm(C, np.inf))\n",
    "    r_1 = (1 - eps_1 / 8) * (r + eps_1/(n * (8 - eps_1) * np.ones(n)))\n",
    "    c_1 = (1 - eps_1 / 8) * (c + eps_1/(n * (8 - eps_1) * np.ones(n)))\n",
    "    B = count_B(eps_1 / 2, r_1, c_1, K, n)\n",
    "    X = proj(r, c, B, n)\n",
    "    return X"
   ]
  },
  {
   "cell_type": "code",
   "execution_count": 20,
   "metadata": {
    "scrolled": false
   },
   "outputs": [
    {
     "name": "stdout",
     "output_type": "stream",
     "text": [
      "err=5.42343914615116e-14\n",
      "[[2.00000000e-01 5.42343915e-14 5.42343915e-14]\n",
      " [2.99999961e-01 9.84071634e-09 2.95220405e-08]\n",
      " [9.99635934e-02 9.99999902e-02 2.99999970e-01]]\n",
      "4.099672025458258\n",
      "Время :0.03719162940979004\n",
      "[[2.00000000e-01 8.15163926e-54 9.27024746e-91]\n",
      " [2.99999961e-01 9.83707564e-09 2.95112269e-08]\n",
      " [1.00000039e-01 9.99999903e-02 2.99999971e-01]]\n",
      "[4.10000004]\n",
      "Время :0.005617380142211914\n"
     ]
    }
   ],
   "source": [
    "eps = 0.255\n",
    "r = np.array([0.2, 0.3, 0.5])\n",
    "c = np.array([0.6, 0.1, 0.3])\n",
    "# a = np.array([0.2, 0.3, 0.5])\n",
    "# b = np.array([0.45, 0.15, 0.4])\n",
    "n = 3\n",
    "C = np.array([[1, 2, 6], [7, 2, 1], [9,3,2]])\n",
    "start = time.time()\n",
    "X = sinkhorn_solve(eps, r, c, C, n)\n",
    "stop = time.time()\n",
    "print(X)\n",
    "sum = 0\n",
    "for i in range(n):\n",
    "    for j in range(n):\n",
    "        sum += X[i][j] * C[i][j]\n",
    "        \n",
    "print(sum)\n",
    "\n",
    "print (\"Время :{}\".format(stop - start))\n",
    "\n",
    "gamma = eps/(4* np.log(n))\n",
    "start = time.time()\n",
    "X = ot.sinkhorn(r, c, C, gamma)\n",
    "stop = time.time()\n",
    "print(X)\n",
    "\n",
    "print(ot.sinkhorn2(r, c, C, gamma))\n",
    "print (\"Время :{}\".format(stop - start))"
   ]
  },
  {
   "cell_type": "code",
   "execution_count": 1,
   "metadata": {},
   "outputs": [
    {
     "ename": "NameError",
     "evalue": "name 'np' is not defined",
     "output_type": "error",
     "traceback": [
      "\u001b[1;31m---------------------------------------------------------------------------\u001b[0m",
      "\u001b[1;31mNameError\u001b[0m                                 Traceback (most recent call last)",
      "\u001b[1;32m<ipython-input-1-9888cfb85b1c>\u001b[0m in \u001b[0;36m<module>\u001b[1;34m()\u001b[0m\n\u001b[0;32m      2\u001b[0m \u001b[0mtime_s1\u001b[0m \u001b[1;33m=\u001b[0m \u001b[1;33m[\u001b[0m\u001b[1;36m0.018610\u001b[0m\u001b[1;33m,\u001b[0m\u001b[1;36m0.025537490\u001b[0m\u001b[1;33m,\u001b[0m \u001b[1;36m0.0283660\u001b[0m\u001b[1;33m,\u001b[0m \u001b[1;36m0.0371916294\u001b[0m\u001b[1;33m,\u001b[0m\u001b[1;36m0.044445514\u001b[0m\u001b[1;33m]\u001b[0m\u001b[1;33m\u001b[0m\u001b[0m\n\u001b[0;32m      3\u001b[0m \u001b[0mtime_s2\u001b[0m \u001b[1;33m=\u001b[0m \u001b[1;33m[\u001b[0m\u001b[1;36m0.0056133270\u001b[0m\u001b[1;33m,\u001b[0m \u001b[1;36m0.010893821\u001b[0m\u001b[1;33m,\u001b[0m \u001b[1;36m0.0096976757\u001b[0m\u001b[1;33m,\u001b[0m \u001b[1;36m0.00561738014\u001b[0m\u001b[1;33m,\u001b[0m \u001b[1;36m0.0063638687\u001b[0m\u001b[1;33m]\u001b[0m\u001b[1;33m\u001b[0m\u001b[0m\n\u001b[1;32m----> 4\u001b[1;33m \u001b[0mlog_time_s1\u001b[0m \u001b[1;33m=\u001b[0m \u001b[0mnp\u001b[0m\u001b[1;33m.\u001b[0m\u001b[0mvectorize\u001b[0m\u001b[1;33m(\u001b[0m\u001b[1;32mlambda\u001b[0m \u001b[0mi\u001b[0m\u001b[1;33m:\u001b[0m \u001b[0mnp\u001b[0m\u001b[1;33m.\u001b[0m\u001b[0mlog\u001b[0m\u001b[1;33m(\u001b[0m\u001b[0mtime_s1\u001b[0m\u001b[1;33m[\u001b[0m\u001b[0mi\u001b[0m\u001b[1;33m]\u001b[0m\u001b[1;33m)\u001b[0m\u001b[1;33m)\u001b[0m\u001b[1;33m(\u001b[0m\u001b[0mnp\u001b[0m\u001b[1;33m.\u001b[0m\u001b[0marange\u001b[0m\u001b[1;33m(\u001b[0m\u001b[1;36m5\u001b[0m\u001b[1;33m)\u001b[0m\u001b[1;33m)\u001b[0m\u001b[1;33m\u001b[0m\u001b[0m\n\u001b[0m\u001b[0;32m      5\u001b[0m \u001b[0mlog_time_s2\u001b[0m \u001b[1;33m=\u001b[0m \u001b[0mnp\u001b[0m\u001b[1;33m.\u001b[0m\u001b[0mvectorize\u001b[0m\u001b[1;33m(\u001b[0m\u001b[1;32mlambda\u001b[0m \u001b[0mi\u001b[0m\u001b[1;33m:\u001b[0m \u001b[0mnp\u001b[0m\u001b[1;33m.\u001b[0m\u001b[0mlog\u001b[0m\u001b[1;33m(\u001b[0m\u001b[0mtime_s2\u001b[0m\u001b[1;33m[\u001b[0m\u001b[0mi\u001b[0m\u001b[1;33m]\u001b[0m\u001b[1;33m)\u001b[0m\u001b[1;33m)\u001b[0m\u001b[1;33m(\u001b[0m\u001b[0mnp\u001b[0m\u001b[1;33m.\u001b[0m\u001b[0marange\u001b[0m\u001b[1;33m(\u001b[0m\u001b[1;36m5\u001b[0m\u001b[1;33m)\u001b[0m\u001b[1;33m)\u001b[0m\u001b[1;33m\u001b[0m\u001b[0m\n\u001b[0;32m      6\u001b[0m \u001b[0mlog_eps\u001b[0m \u001b[1;33m=\u001b[0m \u001b[0mnp\u001b[0m\u001b[1;33m.\u001b[0m\u001b[0mvectorize\u001b[0m\u001b[1;33m(\u001b[0m\u001b[1;32mlambda\u001b[0m \u001b[0mi\u001b[0m\u001b[1;33m:\u001b[0m \u001b[0mnp\u001b[0m\u001b[1;33m.\u001b[0m\u001b[0mlog\u001b[0m\u001b[1;33m(\u001b[0m\u001b[1;36m1.\u001b[0m\u001b[1;33m/\u001b[0m\u001b[0meps\u001b[0m\u001b[1;33m[\u001b[0m\u001b[0mi\u001b[0m\u001b[1;33m]\u001b[0m\u001b[1;33m)\u001b[0m\u001b[1;33m)\u001b[0m\u001b[1;33m(\u001b[0m\u001b[0mnp\u001b[0m\u001b[1;33m.\u001b[0m\u001b[0marange\u001b[0m\u001b[1;33m(\u001b[0m\u001b[1;36m5\u001b[0m\u001b[1;33m)\u001b[0m\u001b[1;33m)\u001b[0m\u001b[1;33m\u001b[0m\u001b[0m\n",
      "\u001b[1;31mNameError\u001b[0m: name 'np' is not defined"
     ]
    }
   ],
   "source": [
    "eps = [0.406, 0.35, 0.3, 0.255, 0.223]\n",
    "time_s1 = [0.018610,0.025537490, 0.0283660, 0.0371916294,0.044445514]\n",
    "time_s2 = [0.0056133270, 0.010893821, 0.0096976757, 0.00561738014, 0.0063638687]\n",
    "log_time_s1 = np.vectorize(lambda i: np.log(time_s1[i]))(np.arange(5))\n",
    "log_time_s2 = np.vectorize(lambda i: np.log(time_s2[i]))(np.arange(5))\n",
    "log_eps = np.vectorize(lambda i: np.log(1./eps[i]))(np.arange(5))\n",
    "\n",
    "plt.figure(figsize=(15,10))\n",
    "plt.plot(log_eps, log_time_s1, label='sinkhorn function')\n",
    "plt.plot(log_eps, log_time_s2, label='library function')\n",
    "plt.legend(fontsize=15)\n",
    "plt.xlabel(\"log(1/eps)\")\n",
    "plt.ylabel(\"log time\")\n",
    "plt.grid()\n",
    "plt.show()"
   ]
  },
  {
   "cell_type": "markdown",
   "metadata": {},
   "source": [
    "## Сложность метода\n",
    " ### Согласно статье, которую вы  нагуглили на ноуте Камиллы Давлетшиной, сложность метода составила $O(\\frac{n^2}{\\epsilon^2})$"
   ]
  },
  {
   "cell_type": "code",
   "execution_count": 4,
   "metadata": {},
   "outputs": [
    {
     "ename": "SyntaxError",
     "evalue": "invalid syntax (<ipython-input-4-b9384d899718>, line 2)",
     "output_type": "error",
     "traceback": [
      "\u001b[1;36m  File \u001b[1;32m\"<ipython-input-4-b9384d899718>\"\u001b[1;36m, line \u001b[1;32m2\u001b[0m\n\u001b[1;33m    rturn X.flatten('F')\u001b[0m\n\u001b[1;37m          ^\u001b[0m\n\u001b[1;31mSyntaxError\u001b[0m\u001b[1;31m:\u001b[0m invalid syntax\n"
     ]
    }
   ],
   "source": [
    "def vec(X):\n",
    "    rturn X.flatten('F')"
   ]
  },
  {
   "cell_type": "code",
   "execution_count": 5,
   "metadata": {
    "collapsed": true
   },
   "outputs": [],
   "source": [
    "def matrix(x):\n",
    "    n = int(np.sqrt(x.shape[0]))\n",
    "    return x.reshape(n, n)"
   ]
  },
  {
   "cell_type": "code",
   "execution_count": null,
   "metadata": {
    "collapsed": true
   },
   "outputs": [],
   "source": [
    "def apdag(eps1, eps2, L_0):\n",
    "    alpha, beta, lam, eta, dzeta = np.zeros(n), np.zeros(n), np.zeros(n), np.zeros(n), np.zeros(n)\n",
    "    tau = np.zeros(n)\n",
    "    i, k = np.zeros(n), np.zeros(n)\n",
    "    dif = np.zeros(n)\n",
    "    M[0] = L_0\n",
    "    while (f(x[k+1] + phi(eta[k+1])) > eps1) and (norm(A @ x[k+1] - b) > eps2):\n",
    "        i[k+1] = 0\n",
    "        k += 1\n",
    "         x[k+1] = tau[k] * X(lam[k+1]) + (1 - tau[k]) * x[k]\n",
    "        grad_phi = b - A @ X(lam[k+1])\n",
    "        dif[k+1] = eta[k+1] - lam[k+1]\n",
    "        while phi(eta[k+1]) > phi(lam[k+1]) + sum(grad_phi[:]*dif[k+1][:]) + M[k] / 2. * norm(dif[k+1]):\n",
    "           \n",
    "            M[k] = 2**(i[k] - 1) * M[k]\n",
    "            alpha[k+1] = M[k] * alpha[k+1]**2\n",
    "            tau[k] = alpha[k+1] / beta[k+1]\n",
    "            lam[k+1] = tau[k] * dzeta[k] + (1 - tau[k]) * eta[k]\n",
    "            dzeta[k+1] = dzeta[k] - alpha[k+1] * grad_phi\n",
    "            eta[k+1] = tau[k] * dzeta[k+1] + (1 - tau[k]) * eta[k]\n",
    "            \n",
    "    return x[k+1], eta[k+1]\n",
    "            "
   ]
  },
  {
   "cell_type": "code",
   "execution_count": null,
   "metadata": {
    "collapsed": true
   },
   "outputs": [],
   "source": []
  },
  {
   "cell_type": "code",
   "execution_count": null,
   "metadata": {
    "collapsed": true
   },
   "outputs": [],
   "source": []
  }
 ],
 "metadata": {
  "kernelspec": {
   "display_name": "Python 2",
   "language": "python",
   "name": "python2"
  },
  "language_info": {
   "codemirror_mode": {
    "name": "ipython",
    "version": 2
   },
   "file_extension": ".py",
   "mimetype": "text/x-python",
   "name": "python",
   "nbconvert_exporter": "python",
   "pygments_lexer": "ipython2",
   "version": "2.7.14"
  }
 },
 "nbformat": 4,
 "nbformat_minor": 2
}
